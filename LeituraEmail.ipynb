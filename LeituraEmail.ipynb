{
 "cells": [
  {
   "cell_type": "markdown",
   "metadata": {},
   "source": [
    "### Instalação do imap_tools"
   ]
  },
  {
   "cell_type": "code",
   "execution_count": 1,
   "metadata": {},
   "outputs": [
    {
     "name": "stdout",
     "output_type": "stream",
     "text": [
      "Requirement already satisfied: imap_tools in c:\\users\\mathe\\appdata\\local\\packages\\pythonsoftwarefoundation.python.3.9_qbz5n2kfra8p0\\localcache\\local-packages\\python39\\site-packages (0.57.0)\n",
      "Note: you may need to restart the kernel to use updated packages.\n"
     ]
    },
    {
     "name": "stderr",
     "output_type": "stream",
     "text": [
      "WARNING: You are using pip version 22.0.4; however, version 22.3 is available.\n",
      "You should consider upgrading via the 'C:\\Users\\mathe\\AppData\\Local\\Microsoft\\WindowsApps\\PythonSoftwareFoundation.Python.3.9_qbz5n2kfra8p0\\python.exe -m pip install --upgrade pip' command.\n"
     ]
    }
   ],
   "source": [
    "pip install imap_tools"
   ]
  },
  {
   "cell_type": "markdown",
   "metadata": {},
   "source": [
    "### Fazendo Integração com meu Gmail"
   ]
  },
  {
   "cell_type": "code",
   "execution_count": null,
   "metadata": {},
   "outputs": [],
   "source": [
    "from imap_tools import MailBox , AND\n",
    "from datetime import date\n",
    "\n",
    "usuario = \"m.chiarello@totvs.com.br\"\n",
    "senha = \"@Chia2022987*\"\n",
    "hoje = date.today()\n",
    "\n",
    "meu_email = MailBox(\"imap.gmail.com\").login(usuario,senha)"
   ]
  },
  {
   "cell_type": "markdown",
   "metadata": {},
   "source": [
    "### Pegar emails que foram enviados por um remetente específico"
   ]
  },
  {
   "cell_type": "code",
   "execution_count": null,
   "metadata": {},
   "outputs": [
    {
     "name": "stdout",
     "output_type": "stream",
     "text": [
      "REALIZADO CONCLUIDO COM SUCESSO\n",
      "2022-10-17 09:27:47+00:00\n",
      "Mon, 17 Oct 2022 09:27:47 +0000 (UTC)\n"
     ]
    }
   ],
   "source": [
    "lista_emails = meu_email.fetch(AND(from_=\"DWDB01@totvs.com.br\" , subject=\"REALIZADO CONCLUIDO COM SUCESSO\" , date=hoje))\n",
    "\n",
    "for email in lista_emails:\n",
    "    print(email.subject)\n",
    "    print(email.date)\n",
    "    print(email.date_str)"
   ]
  }
 ],
 "metadata": {
  "kernelspec": {
   "display_name": "Python 3.9.13 64-bit (microsoft store)",
   "language": "python",
   "name": "python3"
  },
  "language_info": {
   "codemirror_mode": {
    "name": "ipython",
    "version": 3
   },
   "file_extension": ".py",
   "mimetype": "text/x-python",
   "name": "python",
   "nbconvert_exporter": "python",
   "pygments_lexer": "ipython3",
   "version": "3.9.13"
  },
  "orig_nbformat": 4,
  "vscode": {
   "interpreter": {
    "hash": "5e41ca046b3d9885ca897a71fa607c661abdd256ec5b789ecb59479222986451"
   }
  }
 },
 "nbformat": 4,
 "nbformat_minor": 2
}
